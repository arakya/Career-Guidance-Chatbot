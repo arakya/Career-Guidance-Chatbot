{
 "cells": [
  {
   "cell_type": "markdown",
   "id": "496e20e4-c08e-422c-a1ca-62e6581a6198",
   "metadata": {},
   "source": [
    "# Web Scraping for PDFs"
   ]
  },
  {
   "cell_type": "code",
   "execution_count": 4,
   "id": "871e12c0-7171-428b-81a7-9eb0e748287c",
   "metadata": {},
   "outputs": [],
   "source": [
    "import os\n",
    "import requests\n",
    "\n",
    "def download_single_pdf(url, folder=\"data\"):\n",
    "    os.makedirs(folder, exist_ok=True)  # create folder if not exists\n",
    "    filename = os.path.join(folder, os.path.basename(url))  # extract file name from URL\n",
    "    try:\n",
    "        r = requests.get(url)\n",
    "        r.raise_for_status()  # raise error if download fails\n",
    "        with open(filename, \"wb\") as f:\n",
    "            f.write(r.content)\n",
    "        print(f\" Downloaded: {filename}\")\n",
    "    except Exception as e:\n",
    "        print(f\"Failed to download {url}: {e}\")"
   ]
  },
  {
   "cell_type": "code",
   "execution_count": 3,
   "id": "8d20e166-3e86-4f66-8cda-e44eab2805b9",
   "metadata": {},
   "outputs": [],
   "source": [
    "import requests\n",
    "from bs4 import BeautifulSoup\n",
    "import os\n",
    "\n",
    "def scrape_pdfs(base_url, download_folder=\"data\"):\n",
    "    os.makedirs(download_folder, exist_ok=True)\n",
    "    res = requests.get(base_url)\n",
    "    soup = BeautifulSoup(res.text, \"html.parser\")\n",
    "\n",
    "    for link in soup.find_all(\"a\"):\n",
    "        href = link.get(\"href\", \"\")\n",
    "        if href.endswith(\".pdf\"):\n",
    "            pdf_url = href if href.startswith(\"http\") else base_url + href\n",
    "            file_name = os.path.join(download_folder, os.path.basename(pdf_url))\n",
    "            r = requests.get(pdf_url)\n",
    "            with open(file_name, \"wb\") as f:\n",
    "                f.write(r.content)\n",
    "            print(f\"Downloaded: {file_name}\")"
   ]
  },
  {
   "cell_type": "code",
   "execution_count": 3,
   "id": "202f84c4-89ff-4274-a0c9-99f436a9b1b8",
   "metadata": {},
   "outputs": [
    {
     "name": "stdout",
     "output_type": "stream",
     "text": [
      "Downloaded: data/Career-Handbook-2019.pdf\n",
      "Downloaded: data/Career-Handbook-2019.pdf\n",
      "Downloaded: data/selecting-a-medical-school-tips.pdf\n",
      "Downloaded: data/selecting-a-medical-school-tips.pdf\n"
     ]
    }
   ],
   "source": [
    "scrape_pdfs(\"https://capd.mit.edu/resources/career-handbook/\")"
   ]
  },
  {
   "cell_type": "code",
   "execution_count": 4,
   "id": "aed61af6-dfb8-4b5d-ac6c-160cd36349ec",
   "metadata": {},
   "outputs": [
    {
     "name": "stdout",
     "output_type": "stream",
     "text": [
      "Downloaded: data/2024-HES_resume-and-letter.pdf\n"
     ]
    }
   ],
   "source": [
    "scrape_pdfs(\"https://careerservices.fas.harvard.edu/resources/hes-resume-cover-letter-template/\")"
   ]
  },
  {
   "cell_type": "code",
   "execution_count": 5,
   "id": "a3e6e65b-e936-4bd6-b9bb-c512bfef082a",
   "metadata": {
    "scrolled": true
   },
   "outputs": [
    {
     "name": "stdout",
     "output_type": "stream",
     "text": [
      "Downloaded: data/Harvard-College-CS-Resume-Example.pdf\n",
      "Downloaded: data/Harvard-College-CS-Resume-Example.pdf\n",
      "Downloaded: data/Harvard-College-Engineering-Example.pdf\n",
      "Downloaded: data/Harvard-College-Engineering-Example.pdf\n",
      "Downloaded: data/2024-GSAS_phd_resume_cover_letters-1.pdf\n",
      "Downloaded: data/2024-GSAS_phd_resume_cover_letters-1.pdf\n"
     ]
    }
   ],
   "source": [
    "scrape_pdfs(\"https://careerservices.fas.harvard.edu/channels/create-a-resume-cv-or-cover-letter/\")"
   ]
  },
  {
   "cell_type": "code",
   "execution_count": 12,
   "id": "3777c57a-8b67-46a8-af45-154a40ce293f",
   "metadata": {},
   "outputs": [
    {
     "name": "stdout",
     "output_type": "stream",
     "text": [
      "✅ Downloaded successfully: data/resume-sample-with-pop-outs.pdf\n"
     ]
    }
   ],
   "source": [
    "download_single_pdf(\"https://www.careereducation.columbia.edu/sites/default/files/2025-01/resume-sample-with-pop-outs.pdf\")"
   ]
  },
  {
   "cell_type": "code",
   "execution_count": 15,
   "id": "2e16ee2d-7e39-46e5-913f-6d713840e308",
   "metadata": {},
   "outputs": [
    {
     "name": "stdout",
     "output_type": "stream",
     "text": [
      "Downloaded: data/Health and Wellness.pdf\n"
     ]
    }
   ],
   "source": [
    "scrape_pdfs(\"https://dsel.education.gov.in/careers/health.html\")"
   ]
  },
  {
   "cell_type": "code",
   "execution_count": 16,
   "id": "c498a800-7f8a-412b-a1f5-84244fd9c3a4",
   "metadata": {
    "scrolled": true
   },
   "outputs": [
    {
     "name": "stdout",
     "output_type": "stream",
     "text": [
      "Downloaded: data/Education and Training.pdf\n"
     ]
    }
   ],
   "source": [
    "scrape_pdfs(\"https://dsel.education.gov.in/careers/education.html\")"
   ]
  },
  {
   "cell_type": "code",
   "execution_count": 17,
   "id": "94309b22-db24-41b7-a748-05a80e52825a",
   "metadata": {},
   "outputs": [
    {
     "name": "stdout",
     "output_type": "stream",
     "text": [
      "Downloaded: data/Business and Finance.pdf\n"
     ]
    }
   ],
   "source": [
    "scrape_pdfs(\"https://dsel.education.gov.in/careers/business.html\")"
   ]
  },
  {
   "cell_type": "code",
   "execution_count": 18,
   "id": "e49d2fcb-dfe9-459a-b7be-0d1714bc9443",
   "metadata": {},
   "outputs": [
    {
     "name": "stdout",
     "output_type": "stream",
     "text": [
      "Downloaded: data/telephone_directory_moe.pdf\n",
      "Downloaded: data/GFR-2017.pdf\n",
      "Downloaded: data/telephone_directory_moe.pdf\n",
      "Downloaded: data/pgi_hi_1819.pdf\n"
     ]
    }
   ],
   "source": [
    "scrape_pdfs(\"https://dsel.education.gov.in/careers/ArtaMediaMarketing.html\")"
   ]
  },
  {
   "cell_type": "code",
   "execution_count": 19,
   "id": "5bb7583d-6bbe-43e1-9d84-330b93918d4b",
   "metadata": {},
   "outputs": [
    {
     "name": "stdout",
     "output_type": "stream",
     "text": [
      "Downloaded: data/Agriculture and Allied Sciences.pdf\n"
     ]
    }
   ],
   "source": [
    "scrape_pdfs(\"https://dsel.education.gov.in/careers/Agriculture.html\")"
   ]
  },
  {
   "cell_type": "code",
   "execution_count": 20,
   "id": "0c735864-f484-4db5-a9e2-79f808a9ec63",
   "metadata": {
    "scrolled": true
   },
   "outputs": [
    {
     "name": "stdout",
     "output_type": "stream",
     "text": [
      "Downloaded: data/Engineering.pdf\n"
     ]
    }
   ],
   "source": [
    "scrape_pdfs(\"https://dsel.education.gov.in/careers/engineering.html\")"
   ]
  },
  {
   "cell_type": "code",
   "execution_count": 21,
   "id": "ef92509b-5760-4422-809a-55862aafd079",
   "metadata": {
    "scrolled": true
   },
   "outputs": [
    {
     "name": "stdout",
     "output_type": "stream",
     "text": [
      "Downloaded: data/Government Services.pdf\n"
     ]
    }
   ],
   "source": [
    "scrape_pdfs(\"https://dsel.education.gov.in/careers/government.html\")"
   ]
  },
  {
   "cell_type": "code",
   "execution_count": 22,
   "id": "36032187-1ee9-4bba-b2c0-58c283459a90",
   "metadata": {},
   "outputs": [
    {
     "name": "stdout",
     "output_type": "stream",
     "text": [
      "Downloaded: data/Information Technology.pdf\n",
      "Downloaded: data/Management.pdf\n",
      "Downloaded: data/Operations,Logistics and Hospitality.pdf\n",
      "Downloaded: data/Public Policy,Law and Safety.pdf\n",
      "Downloaded: data/Research and Development.pdf\n"
     ]
    }
   ],
   "source": [
    "scrape_pdfs(\"https://dsel.education.gov.in/careers/informationtechnology.html\")\n",
    "scrape_pdfs(\"https://dsel.education.gov.in/careers/management.html\")\n",
    "scrape_pdfs(\"https://dsel.education.gov.in/careers/operationsLogistics.html\")\n",
    "scrape_pdfs(\"https://dsel.education.gov.in/careers/publicPolicyLaw.html\")\n",
    "scrape_pdfs(\"https://dsel.education.gov.in/careers/researchandDevelopment.html\")"
   ]
  },
  {
   "cell_type": "code",
   "execution_count": 23,
   "id": "0df43070-2a39-4044-b7b8-bf7afaa8582e",
   "metadata": {
    "scrolled": true
   },
   "outputs": [
    {
     "name": "stdout",
     "output_type": "stream",
     "text": [
      "Downloaded: data/Technical and Skill Trades.pdf\n"
     ]
    }
   ],
   "source": [
    "scrape_pdfs(\"https://dsel.education.gov.in/careers/technicalandskillTrades.html\")"
   ]
  },
  {
   "cell_type": "code",
   "execution_count": 24,
   "id": "e03357f7-0081-4347-b1f7-4b84d587436e",
   "metadata": {},
   "outputs": [
    {
     "name": "stdout",
     "output_type": "stream",
     "text": [
      " Downloaded: data/resume_guide_2020.pdf\n",
      " Downloaded: data/Career-Handbook-2019.pdf\n",
      " Downloaded: data/career-development-guide.pdf\n",
      "Failed to download https://som.yale.edu/sites/default/files/Yale%20SOM%20CDO%20Resume%20Writing%20Guide-1.pdf: 404 Client Error: Not Found for url: https://som.yale.edu/sites/default/files/Yale%20SOM%20CDO%20Resume%20Writing%20Guide-1.pdf\n",
      " Downloaded: data/resume%20writing%20guide%20web.pdf\n",
      " Downloaded: data/UPDATED-Combined-Resume-packet.pdf\n",
      "Failed to download https://indianastate.edu/sites/default/files/career-center-resume-writing-guide.pdf: 404 Client Error: Not Found for url: https://indianastate.edu/sites/default/files/career-center-resume-writing-guide.pdf\n",
      "Failed to download https://www.calhr.ca.gov/workforce-planning/Documents/wfp-caltrans-Career-Development-Planning-Workbook-Final.pdf: 403 Client Error: Forbidden for url: https://www.calhr.ca.gov/workforce-planning/Documents/wfp-caltrans-Career-Development-Planning-Workbook-Final/\n",
      " Downloaded: data/resume-handout-508-compliant.pdf\n"
     ]
    },
    {
     "ename": "NameError",
     "evalue": "name 'process_pdfs' is not defined",
     "output_type": "error",
     "traceback": [
      "\u001b[0;31m---------------------------------------------------------------------------\u001b[0m",
      "\u001b[0;31mNameError\u001b[0m                                 Traceback (most recent call last)",
      "Cell \u001b[0;32mIn[24], line 15\u001b[0m\n\u001b[1;32m     13\u001b[0m \u001b[38;5;28;01mfor\u001b[39;00m url \u001b[38;5;129;01min\u001b[39;00m pdf_urls:\n\u001b[1;32m     14\u001b[0m     download_single_pdf(url)\n\u001b[0;32m---> 15\u001b[0m \u001b[43mprocess_pdfs\u001b[49m(\u001b[38;5;124m\"\u001b[39m\u001b[38;5;124mdata/\u001b[39m\u001b[38;5;124m\"\u001b[39m)\n",
      "\u001b[0;31mNameError\u001b[0m: name 'process_pdfs' is not defined"
     ]
    }
   ],
   "source": [
    "pdf_urls = [\n",
    "    \"https://careerdevelopment.princeton.edu/sites/g/files/toruqf1041/files/resume_guide_2020.pdf\",\n",
    "    \"https://cdn.uconnectlabs.com/wp-content/uploads/sites/123/2021/07/Career-Handbook-2019.pdf\",\n",
    "    \"https://www.umkc.edu/recreation/docs/career-development-guide.pdf\",\n",
    "    \"https://som.yale.edu/sites/default/files/Yale%20SOM%20CDO%20Resume%20Writing%20Guide-1.pdf\",\n",
    "    \"https://career.fsu.edu/sites/g/files/upcbnu746/files/Guides/resume%20writing%20guide%20web.pdf\",\n",
    "    \"https://business.ucf.edu/wp-content/uploads/sites/4/2020/03/UPDATED-Combined-Resume-packet.pdf\",\n",
    "    \"https://indianastate.edu/sites/default/files/career-center-resume-writing-guide.pdf\",\n",
    "    \"https://www.calhr.ca.gov/workforce-planning/Documents/wfp-caltrans-Career-Development-Planning-Workbook-Final.pdf\",\n",
    "    \"https://www.doi.gov/sites/default/files/resume-handout-508-compliant.pdf\"\n",
    "]\n",
    "\n",
    "for url in pdf_urls:\n",
    "    download_single_pdf(url)"
   ]
  },
  {
   "cell_type": "code",
   "execution_count": 25,
   "id": "05f70077-ca89-4aea-a763-3f846421729a",
   "metadata": {},
   "outputs": [
    {
     "name": "stdout",
     "output_type": "stream",
     "text": [
      " Downloaded: data/stuckert-resume-guide-final-2024-2025-1.pdf?utm_source=chatgpt.com\n"
     ]
    }
   ],
   "source": [
    "download_single_pdf(\"https://gradschool.uky.edu/sites/default/files/2024-12/stuckert-resume-guide-final-2024-2025-1.pdf?utm_source=chatgpt.com\")"
   ]
  },
  {
   "cell_type": "code",
   "execution_count": 26,
   "id": "1aa27f6a-326b-47e7-9512-5f89acacc79b",
   "metadata": {},
   "outputs": [
    {
     "name": "stdout",
     "output_type": "stream",
     "text": [
      " Downloaded: data/2022_Your%20Career%20Development%20Guide%20for%20Working%20Professionals_0.pdf\n",
      " Downloaded: data/Action%20Plan%20-%20Revised%20081315_2.pdf\n"
     ]
    }
   ],
   "source": [
    "download_single_pdf(\"https://som.yale.edu/sites/default/files/2022-01/2022_Your%20Career%20Development%20Guide%20for%20Working%20Professionals_0.pdf\")\n",
    "download_single_pdf(\"https://harris.uchicago.edu/sites/default/files/Action%20Plan%20-%20Revised%20081315_2.pdf\")"
   ]
  },
  {
   "cell_type": "code",
   "execution_count": 27,
   "id": "dd216011-34e9-460d-a286-d402d35ccd37",
   "metadata": {},
   "outputs": [
    {
     "name": "stdout",
     "output_type": "stream",
     "text": [
      " Downloaded: data/nace-career-readiness-competencies-revised-apr-2024.pdf\n",
      " Downloaded: data/graduate_school_guide_2020.pdf\n",
      " Downloaded: data/Copy-of-Internship-Program-Development-Toolkit_FINAL.pdf\n",
      " Downloaded: data/internship_guidelines_final.pdf\n",
      " Downloaded: data/Grad-School-Guide-2022.pdf\n"
     ]
    }
   ],
   "source": [
    "pdf_urls = [\n",
    "    \"https://www.naceweb.org/docs/default-source/default-document-library/2024/resources/nace-career-readiness-competencies-revised-apr-2024.pdf\",\n",
    "    \"https://careerdevelopment.princeton.edu/sites/g/files/toruqf1041/files/graduate_school_guide_2020.pdf\",\n",
    "    \"https://career.berkeley.edu/wp-content/uploads/Copy-of-Internship-Program-Development-Toolkit_FINAL.pdf\",\n",
    "    \"https://academic-senate.berkeley.edu/sites/default/files/internship_guidelines_final.pdf\",\n",
    "    \"https://cdn.wou.edu/professional-pathways/files/2022/07/Grad-School-Guide-2022.pdf\"\n",
    "]\n",
    "\n",
    "for url in pdf_urls:\n",
    "    download_single_pdf(url)"
   ]
  },
  {
   "cell_type": "code",
   "execution_count": 28,
   "id": "dfc76908-c910-4bbb-8a0a-ebca1baebea6",
   "metadata": {},
   "outputs": [
    {
     "name": "stdout",
     "output_type": "stream",
     "text": [
      " Downloaded: data/behavioral-interview-guide.pdf\n",
      " Downloaded: data/evidence-based-interviewing-2022.pdf\n",
      "Failed to download https://www.cmu.edu/heinz-shared/_files/img/career-services-pages/career-academy-interviewing-guide.pdf: 404 Client Error: Not Found for url: https://www.cmu.edu/heinz-shared/_files/img/career-services-pages/career-academy-interviewing-guide.pdf\n",
      " Downloaded: data/2022_Your%20Career%20Development%20Guide%20for%20Working%20Professionals_0.pdf\n",
      " Downloaded: data/job_search_success_workbook_access.pdf\n"
     ]
    }
   ],
   "source": [
    "pdf_urls = [\n",
    "    \"https://www.cmu.edu/career/faculty-and-staff/documents-for-career-champions/behavioral-interview-guide.pdf\",\n",
    "    \"https://www.cmu.edu/dietrich/students/graduate/docs/evidence-based-interviewing-2022.pdf\",\n",
    "    \"https://www.cmu.edu/heinz-shared/_files/img/career-services-pages/career-academy-interviewing-guide.pdf\",\n",
    "    \"https://som.yale.edu/sites/default/files/2022-01/2022_Your%20Career%20Development%20Guide%20for%20Working%20Professionals_0.pdf\",\n",
    "    \"https://www.kirkwood.edu/_files/pdf/explore/services/job_search_success_workbook_access.pdf\"\n",
    "]\n",
    "\n",
    "for url in pdf_urls:\n",
    "    download_single_pdf(url)"
   ]
  },
  {
   "cell_type": "code",
   "execution_count": 4,
   "id": "de4eb3e5-a4fe-4987-b929-3a512cd43d2e",
   "metadata": {
    "jupyter": {
     "source_hidden": true
    }
   },
   "outputs": [
    {
     "name": "stdout",
     "output_type": "stream",
     "text": [
      "Failed to download https://www.researchgate.net/publication/385650743_The_Importance_of_Internships: 403 Client Error: Forbidden for url: https://www.researchgate.net/publication/385650743_The_Importance_of_Internships\n"
     ]
    }
   ],
   "source": [
    "download_single_pdf(\"https://www.researchgate.net/publication/385650743_The_Importance_of_Internships\")"
   ]
  },
  {
   "cell_type": "code",
   "execution_count": 6,
   "id": "360b3038-7a4d-4c0b-94f1-aabf786ab7d8",
   "metadata": {},
   "outputs": [
    {
     "name": "stdout",
     "output_type": "stream",
     "text": [
      " Downloaded: data/EJ1263677.pdf\n",
      " Downloaded: data/Internships.pdf\n",
      " Downloaded: data/8MZFL2NWYX6ZJI52YJU35MZQ15ZDRM2MTC4DZJM41MTJK3YTDI8ZGMX9YJFLFYTQ20NZY3CZDAY5YZHI2MTAZ1MGY2DLJC01NZQZ9OTE3FLMYZ.pdf\n",
      " Downloaded: data/10-Reasons-to-Do-an-Internship.pdf\n",
      "Failed to download https://ijssrr.com/journal/article/view/2200/1675f: 404 Client Error: Not Found for url: https://ijssrr.com/journal/article/view/2200/1675f\n"
     ]
    }
   ],
   "source": [
    "pdf_urls = [\n",
    "    \"https://files.eric.ed.gov/fulltext/EJ1263677.pdf\",\n",
    "    \"https://assets.publishing.service.gov.uk/media/5b3b5de3ed915d33c7d58e52/Internships.pdf\",\n",
    "    \"https://www.tesolunion.org/attachments/files/8MZFL2NWYX6ZJI52YJU35MZQ15ZDRM2MTC4DZJM41MTJK3YTDI8ZGMX9YJFLFYTQ20NZY3CZDAY5YZHI2MTAZ1MGY2DLJC01NZQZ9OTE3FLMYZ.pdf\",\n",
    "    \"https://www.montclair.edu/college-of-communication-and-media/wp-content/uploads/sites/20/2020/06/10-Reasons-to-Do-an-Internship.pdf\",\n",
    "    \"https://ijssrr.com/journal/article/view/2200/1675f\"\n",
    "]\n",
    "\n",
    "for url in pdf_urls:\n",
    "    download_single_pdf(url)"
   ]
  },
  {
   "cell_type": "code",
   "execution_count": 9,
   "id": "cad7f2e7-2410-419e-b79b-a5db8224dd10",
   "metadata": {
    "jupyter": {
     "source_hidden": true
    }
   },
   "outputs": [],
   "source": [
    "scrape_pdfs(\"https://www.researchgate.net/publication/383711697_Importance_of_Internship_Programs_as_a_Strategy_to_Impart_Experiential_Learning_on_Graduate\")"
   ]
  },
  {
   "cell_type": "code",
   "execution_count": 5,
   "id": "982d8cfe-05f6-4b7f-be39-813393bc731c",
   "metadata": {},
   "outputs": [
    {
     "name": "stdout",
     "output_type": "stream",
     "text": [
      "Downloaded: data/Curriculum_Sec_2024-25.pdf\n",
      "Downloaded: data/Arabic_Sec_2024-25.pdf\n",
      "Downloaded: data/Assamese_Sec_2024-25.pdf\n",
      "Downloaded: data/Bahasa_Melayu_Sec_2024-25.pdf\n",
      "Downloaded: data/Bengali_Sec_2024-25.pdf\n",
      "Downloaded: data/Bhoti_Sec_2024-25.pdf\n",
      "Downloaded: data/Bhutia_Sec_2024-25.pdf\n",
      "Downloaded: data/Bodo_Sec_2024-25.pdf\n",
      "Downloaded: data/English_LL_2024-25.pdf\n",
      "Downloaded: data/English_Communicative_Sec_2024-25.pdf\n",
      "Downloaded: data/French_Sec_2024-25.pdf\n",
      "Downloaded: data/German_Sec_2024-25.pdf\n",
      "Downloaded: data/Gujarati_Sec_2024-25.pdf\n",
      "Downloaded: data/Gurung_Sec_2024-25.pdf\n",
      "Downloaded: data/Hindi_A_Sec_2024-25.pdf\n",
      "Downloaded: data/Hindi_B_Sec_2024-25.pdf\n",
      "Downloaded: data/Japanese_Sec_2024-25.pdf\n",
      "Downloaded: data/Kannada_Sec_2024-25.pdf\n",
      "Downloaded: data/Kashmiri_Sec_2024-25.pdf\n",
      "Downloaded: data/KOKBOROK_Sec_2024-25.pdf\n",
      "Downloaded: data/Lepcha_Sec_2024-25.pdf\n",
      "Downloaded: data/Limboo_Sec_2024-25.pdf\n",
      "Downloaded: data/Malyalam_Sec_2024-25.pdf\n",
      "Downloaded: data/Manipuri_Sec_2024-25.pdf\n",
      "Downloaded: data/Marathi_Sec_2024-25.pdf\n",
      "Downloaded: data/Mizo_Sec_2024-25.pdf\n",
      "Downloaded: data/Nepali_Sec_2024-25.pdf\n",
      "Downloaded: data/Odia_Sec_2024-25.pdf\n",
      "Downloaded: data/Persian_Sec_2024-25.pdf\n",
      "Downloaded: data/Punjabi_Sec_2024-25.pdf\n",
      "Downloaded: data/Rai_Sec_2024-25.pdf\n",
      "Downloaded: data/Russian_Sec_2024-25.pdf\n",
      "Downloaded: data/Sanskrit_Sec_2024-25.pdf\n",
      "Downloaded: data/Sanskrit_Communiucative_Sec_2024-25.pdf\n",
      "Downloaded: data/Sindhi_Sec_2024-25.pdf\n",
      "Downloaded: data/Spanish_Sec_2024-25.pdf\n",
      "Downloaded: data/Sherpa_Sec_2024-25.pdf\n",
      "Downloaded: data/Tamang_Sec_2024-25.pdf\n",
      "Downloaded: data/Tamil_Sec_2024-25.pdf\n",
      "Downloaded: data/Tangkhul_Sec_2024-25.pdf\n",
      "Downloaded: data/Telugu_Sec_2024-25.pdf\n",
      "Downloaded: data/Telugu_Telangana_Sec_2024-25.pdf\n",
      "Downloaded: data/Tibetan_Sec_2024-25.pdf\n",
      "Downloaded: data/Thai_sec_2024-25.pdf\n",
      "Downloaded: data/Urdu_Course_A_Sec_2024-25.pdf\n",
      "Downloaded: data/Urdu_Course_B_Sec_2024-25.pdf\n",
      "Downloaded: data/Maths_Sec_2024-25.pdf\n",
      "Downloaded: data/Science_Sec_2024-25.pdf\n",
      "Downloaded: data/Social_Science_Sec_2024-25.pdf\n",
      "Downloaded: data/Carnatic_Vocal_Sec_2024-25.pdf\n",
      "Downloaded: data/Carnatic_Melodic_Sec_2024-25.pdf\n",
      "Downloaded: data/Carnatic_Percussion_Sec_2024-25.pdf\n",
      "Downloaded: data/Hindustani_Music_Vocal_Sec_2024-25.pdf\n",
      "Downloaded: data/Hindustani_Music_Melodic_Sec_2024-25.pdf\n",
      "Downloaded: data/Hindustani_Music_Percussion_Sec_2024-25.pdf\n",
      "Downloaded: data/Painting_Sec_2024-25.pdf\n",
      "Downloaded: data/Home_Science_Sec_2024-25.pdf\n",
      "Downloaded: data/NCC_Sec_2024-25.pdf\n",
      "Downloaded: data/Computer_Applications_Sec_2024-25.pdf\n",
      "Downloaded: data/Elements_of_Business_Sec_2024-25.pdf\n",
      "Downloaded: data/Elements_of_BK_Acc_Sec_2024-25.pdf\n",
      "Downloaded: data/HPE_Sec_2024-25.pdf\n",
      "Downloaded: data/Work_Experience_Sec_2024-25.pdf\n",
      "Downloaded: data/Art_Education_Sec_2024-25.pdf\n",
      "Downloaded: data/Curriculum_SrSec_2024-25.pdf\n",
      "Downloaded: data/Arabic_SrSec_2024-25.pdf\n",
      "Downloaded: data/Assamese_SrSec_2024-25.pdf\n",
      "Downloaded: data/Bengali_SrSec_2024-25.pdf\n",
      "Downloaded: data/Bhoti_SrSec_2024-25.pdf\n",
      "Downloaded: data/Bhutia_SrSec_2024-25.pdf\n",
      "Downloaded: data/Bodo_SrSec_2024-25.pdf\n",
      "Downloaded: data/French_SrSec_2024-25.pdf\n",
      "Downloaded: data/German_SrSec_2024-25.pdf\n",
      "Downloaded: data/Gujarati_SrSec_2024-25.pdf\n",
      "Downloaded: data/Hindi_Core_SrSec_2024-25.pdf\n",
      "Downloaded: data/Hindi_Elective_SrSec_2024-25.pdf\n",
      "Downloaded: data/English_core_SrSec_2024-25.pdf\n",
      "Downloaded: data/English_elective_SrSec_2024-25.pdf\n",
      "Downloaded: data/Japanese_SrSec_2024-25.pdf\n",
      "Downloaded: data/Kannada_SrSec_2024-25.pdf\n",
      "Downloaded: data/Kashmiri_SrSec_2024-25.pdf\n",
      "Downloaded: data/KOKBOROK_SrSec_2024-25.pdf\n",
      "Downloaded: data/Lepcha_SrSec_2024-25.pdf\n",
      "Downloaded: data/Limboo_SrSec_2024-25.pdf\n",
      "Downloaded: data/Malyalam_SrSec_2024-25.pdf\n",
      "Downloaded: data/Manipuri_SrSec_2024-25.pdf\n",
      "Downloaded: data/Marathi_SrSec_2024-25.pdf\n",
      "Downloaded: data/Mizo_SrSec_2024-25.pdf\n",
      "Downloaded: data/Nepali_SrSec_2024-25.pdf\n",
      "Downloaded: data/Odia_SrSec_2024-25.pdf\n",
      "Downloaded: data/Persian_SrSec_2024-25.pdf\n",
      "Downloaded: data/Punjabi_SrSec_2024-25.pdf\n",
      "Downloaded: data/Russian_SrSec_2024-25.pdf\n",
      "Downloaded: data/Sanskrit_Core_SrSec_2024-25.pdf\n",
      "Downloaded: data/Sanskrit_Elective_SrSec_2024-25.pdf\n",
      "Downloaded: data/Sindhi_SrSec_2024-25.pdf\n",
      "Downloaded: data/Spanish_SrSec_2024-25.pdf\n",
      "Downloaded: data/Tamil_SrSec_2024-25.pdf\n",
      "Downloaded: data/Tangkhul_SrSec_2024-25.pdf\n",
      "Downloaded: data/Telugu_AP_SrSec_2024-25.pdf\n",
      "Downloaded: data/Telugu_Telangana_SrSec_2024-25.pdf\n",
      "Downloaded: data/Tibetan_SrSec_2024-25.pdf\n",
      "Downloaded: data/URDU_CORE_SrSec_2024-25.pdf\n",
      "Downloaded: data/URDU_Elective_SrSec_2024-25.pdf\n",
      "Downloaded: data/Accountancy_SrSec_2024-25.pdf\n",
      "Downloaded: data/Biology_SrSec_2024-25.pdf\n",
      "Downloaded: data/BioTechnology_SrSec_2024-25.pdf\n",
      "Downloaded: data/BusinessStudies_SrSec_2024-25.pdf\n",
      "Downloaded: data/Carnatic_Melodic_SrSec_2024-25.pdf\n",
      "Downloaded: data/Carnatic_Vocal_SrSec_2024-25.pdf\n",
      "Downloaded: data/Carnatic_Percussion_SrSec_2024-25.pdf\n",
      "Downloaded: data/Chemistry_SrSec_2024-25.pdf\n",
      "Downloaded: data/Computer_Science_SrSec_2024-25.pdf\n",
      "Downloaded: data/Economics_SrSec_2024-25.pdf\n",
      "Downloaded: data/Engineering_Graphics_SrSec_2024-25.pdf\n",
      "Downloaded: data/Enterprenuership_SrSec_2024-25.pdf\n",
      "Downloaded: data/Fine_Arts_SrSec_2024-25.pdf\n",
      "Downloaded: data/Indian_Classical_Dances_SrSec_2024-25.pdf\n",
      "Downloaded: data/Geography_SrSec_2024-25.pdf\n",
      "Downloaded: data/Hindustan_Melodic_SrSec_2024-25.pdf\n",
      "Downloaded: data/Hindustan_Percussion_SrSec_2024-25.pdf\n",
      "Downloaded: data/Hindustan_Vocal_SrSec_2024-25.pdf\n",
      "Downloaded: data/History_SrSec_2024-25.pdf\n",
      "Downloaded: data/Home_Science_SrSec_2024-25.pdf\n",
      "Downloaded: data/Informatics_Practices_SrSec_2024-25.pdf\n",
      "Downloaded: data/KTPI_SrSec_2024-25.pdf\n",
      "Downloaded: data/LegalStudies_SrSec_2024-25.pdf\n",
      "Downloaded: data/Maths_SrSec_2024-25.pdf\n",
      "Downloaded: data/Applied_Mathematics_SrSec_2024-25.pdf\n",
      "Downloaded: data/NCC_SrSec_2024-25.pdf\n",
      "Downloaded: data/PhysicalEducation_SrSec_2024-25.pdf\n",
      "Downloaded: data/Physics_SrSec_2024-25.pdf\n",
      "Downloaded: data/PoliticalScience_SrSec_2024-25.pdf\n",
      "Downloaded: data/Psychology_SrSec_2024-25.pdf\n",
      "Downloaded: data/Sociology_SrSec_2024-25.pdf\n",
      "Downloaded: data/HPE_SrSec_2024-25.pdf\n",
      "Downloaded: data/WorkExperience_SrSec_2024-25.pdf\n",
      "Downloaded: data/GeneralStudies_SrSec_2024-25.pdf\n"
     ]
    }
   ],
   "source": [
    "scrape_pdfs(\"https://cbseacademic.nic.in/curriculum_2025.html\")"
   ]
  },
  {
   "cell_type": "markdown",
   "id": "8c2fbd7c-e052-4d05-bc0a-44128c5623b1",
   "metadata": {},
   "source": [
    "# Chunking and Vectorizing"
   ]
  },
  {
   "cell_type": "code",
   "execution_count": 11,
   "id": "842f4dd3-9ec7-42c7-8d4b-183c609dd305",
   "metadata": {},
   "outputs": [],
   "source": [
    "import json\n",
    "\n",
    "METADATA_PATH = \"career_vectordb/vector_db_metadata.json\"\n",
    "\n",
    "def load_metadata():\n",
    "    if os.path.exists(METADATA_PATH):\n",
    "        with open(METADATA_PATH, \"r\") as f:\n",
    "            return json.load(f)\n",
    "    else:\n",
    "        return {\"processed_pdfs\": []}\n",
    "\n",
    "def save_metadata(metadata):\n",
    "    os.makedirs(os.path.dirname(METADATA_PATH), exist_ok=True)\n",
    "    with open(METADATA_PATH, \"w\") as f:\n",
    "        json.dump(metadata, f, indent=4)"
   ]
  },
  {
   "cell_type": "code",
   "execution_count": null,
   "id": "d170be57-28ff-4961-a3c0-bd9293c32bda",
   "metadata": {},
   "outputs": [
    {
     "name": "stderr",
     "output_type": "stream",
     "text": [
      "/var/folders/2g/0ppf1r911n33t57wvbmrlxm00000gn/T/ipykernel_64487/458181619.py:23: LangChainDeprecationWarning: The class `HuggingFaceEmbeddings` was deprecated in LangChain 0.2.2 and will be removed in 1.0. An updated version of the class exists in the :class:`~langchain-huggingface package and should be used instead. To use it run `pip install -U :class:`~langchain-huggingface` and import as `from :class:`~langchain_huggingface import HuggingFaceEmbeddings``.\n",
      "  embedding_model = HuggingFaceEmbeddings(model_name=\"all-MiniLM-L6-v2\")\n"
     ]
    },
    {
     "name": "stdout",
     "output_type": "stream",
     "text": [
      "✅ Skipping already processed file: Operations,Logistics and Hospitality.pdf\n",
      "✅ Skipping already processed file: Agriculture and Allied Sciences.pdf\n",
      "✅ Skipping already processed file: behavioral-interview-guide.pdf\n",
      "✅ Skipping already processed file: nace-career-readiness-competencies-revised-apr-2024.pdf\n",
      "✅ Skipping already processed file: resume-sample-with-pop-outs.pdf\n",
      "✅ Skipping already processed file: UPDATED-Combined-Resume-packet.pdf\n",
      "✅ Skipping already processed file: GFR-2017.pdf\n",
      "✅ Skipping already processed file: Health and Wellness.pdf\n",
      "✅ Skipping already processed file: 2024-HES_resume-and-letter.pdf\n",
      "✅ Skipping already processed file: Internships.pdf\n",
      "✅ Skipping already processed file: 10-Reasons-to-Do-an-Internship.pdf\n",
      "✅ Skipping already processed file: telephone_directory_moe.pdf\n",
      "✅ Skipping already processed file: Public Policy,Law and Safety.pdf\n",
      "✅ Skipping already processed file: Research and Development.pdf\n",
      "✅ Skipping already processed file: TheImportanceofInternships_LinkedIn.pdf\n",
      "✅ Skipping already processed file: Management.pdf\n",
      "✅ Skipping already processed file: Copy-of-Internship-Program-Development-Toolkit_FINAL.pdf\n",
      "✅ Skipping already processed file: Harvard-College-Engineering-Example.pdf\n",
      "✅ Skipping already processed file: internship_guidelines_final.pdf\n",
      "✅ Skipping already processed file: Information Technology.pdf\n",
      "✅ Skipping already processed file: selecting-a-medical-school-tips.pdf\n",
      "⏭ Skipping non-PDF file: stuckert-resume-guide-final-2024-2025-1.pdf?utm_source=chatgpt.com\n",
      "✅ Skipping already processed file: 2022_Your%20Career%20Development%20Guide%20for%20Working%20Professionals_0.pdf\n",
      "✅ Skipping already processed file: pgi_hi_1819.pdf\n",
      "✅ Skipping already processed file: Career-Handbook-2019.pdf\n",
      "✅ Skipping already processed file: resume_guide_2020.pdf\n",
      "✅ Skipping already processed file: evidence-based-interviewing-2022.pdf\n",
      "✅ Skipping already processed file: 8MZFL2NWYX6ZJI52YJU35MZQ15ZDRM2MTC4DZJM41MTJK3YTDI8ZGMX9YJFLFYTQ20NZY3CZDAY5YZHI2MTAZ1MGY2DLJC01NZQZ9OTE3FLMYZ.pdf\n",
      "✅ Skipping already processed file: 2024-GSAS_phd_resume_cover_letters-1.pdf\n",
      "✅ Skipping already processed file: Business and Finance.pdf\n",
      "✅ Skipping already processed file: resume%20writing%20guide%20web.pdf\n",
      "✅ Skipping already processed file: Education and Training.pdf\n",
      "✅ Skipping already processed file: Government Services.pdf\n",
      "✅ Skipping already processed file: Engineering.pdf\n",
      "✅ Skipping already processed file: Technical and Skill Trades.pdf\n",
      "✅ Skipping already processed file: Action%20Plan%20-%20Revised%20081315_2.pdf\n",
      "✅ Skipping already processed file: resume-handout-508-compliant.pdf\n",
      "✅ Skipping already processed file: EJ1263677.pdf\n",
      "✅ Skipping already processed file: Grad-School-Guide-2022.pdf\n",
      "✅ Skipping already processed file: Harvard-College-CS-Resume-Example.pdf\n",
      "✅ Skipping already processed file: job_search_success_workbook_access.pdf\n",
      "✅ Skipping already processed file: career-development-guide.pdf\n",
      "✅ Skipping already processed file: graduate_school_guide_2020.pdf\n",
      "📦 No new documents to add.\n"
     ]
    }
   ],
   "source": [
    "import os\n",
    "import json\n",
    "from langchain.document_loaders import PyMuPDFLoader\n",
    "from langchain.vectorstores import FAISS\n",
    "from langchain.embeddings import HuggingFaceEmbeddings  \n",
    "from langchain.text_splitter import CharacterTextSplitter\n",
    "\n",
    "METADATA_PATH = \"career_vectordb/vector_db_metadata.json\"\n",
    "\n",
    "def load_metadata():\n",
    "    if os.path.exists(METADATA_PATH):\n",
    "        with open(METADATA_PATH, \"r\") as f:\n",
    "            return json.load(f)\n",
    "    else:\n",
    "        return {\"processed_pdfs\": []}\n",
    "\n",
    "def save_metadata(metadata):\n",
    "    os.makedirs(os.path.dirname(METADATA_PATH), exist_ok=True)\n",
    "    with open(METADATA_PATH, \"w\") as f:\n",
    "        json.dump(metadata, f, indent=4)\n",
    "\n",
    "def process_pdfs_incremental(directory=\"data/\", chunk_size=1000, chunk_overlap=100):\n",
    "    embedding_model = HuggingFaceEmbeddings(model_name=\"all-MiniLM-L6-v2\")\n",
    "    metadata = load_metadata()\n",
    "    processed = metadata.get(\"processed_pdfs\", [])\n",
    "    \n",
    "    all_new_chunks = []\n",
    "\n",
    "    for file in os.listdir(directory):\n",
    "        filepath = os.path.join(directory, file)\n",
    "        if not file.lower().endswith(\".pdf\"):\n",
    "            print(f\"⏭ Skipping non-PDF file: {file}\")\n",
    "            continue\n",
    "        if file in processed:\n",
    "            print(f\"✅ Skipping already processed file: {file}\")\n",
    "            continue\n",
    "\n",
    "        print(f\"🔍 Processing new file: {file}\")\n",
    "        try:\n",
    "            loader = PyMuPDFLoader(filepath)\n",
    "            docs = loader.load()\n",
    "        except Exception as e:\n",
    "            print(f\"❌ Failed to load {file}: {e}\")\n",
    "            continue\n",
    "\n",
    "        try:\n",
    "            splitter = CharacterTextSplitter(chunk_size=chunk_size, chunk_overlap=chunk_overlap)\n",
    "            chunks = splitter.split_documents(docs)\n",
    "            all_new_chunks.extend(chunks)\n",
    "            processed.append(file)\n",
    "        except Exception as e:\n",
    "            print(f\"❌ Failed to split {file}: {e}\")\n",
    "            continue\n",
    "\n",
    "    if not all_new_chunks:\n",
    "        print(\"📦 No new documents to add.\")\n",
    "        return\n",
    "\n",
    "    # Load existing vector DB or create a new one\n",
    "    try:\n",
    "        if os.path.exists(\"career_vectordb/index.faiss\"):\n",
    "            vectordb = FAISS.load_local(\"career_vectordb\", embedding_model, allow_dangerous_deserialization=True)\n",
    "            vectordb.add_documents(all_new_chunks)\n",
    "        else:\n",
    "            vectordb = FAISS.from_documents(all_new_chunks, embedding_model)\n",
    "        vectordb.save_local(\"career_vectordb\")\n",
    "        save_metadata({\"processed_pdfs\": processed})\n",
    "        print(\"✅ Vector DB updated and saved.\")\n",
    "    except Exception as e:\n",
    "        print(f\"❌ Failed to update vector DB: {e}\")\n",
    "\n",
    "if __name__ == \"__main__\":\n",
    "    # Run incremental processing on \"data\" folder by default\n",
    "    process_pdfs_incremental()"
   ]
  },
  {
   "cell_type": "code",
   "execution_count": 13,
   "id": "c7751be1-139b-47cf-8282-4e86816e6d48",
   "metadata": {
    "scrolled": true
   },
   "outputs": [
    {
     "name": "stderr",
     "output_type": "stream",
     "text": [
      "/var/folders/2g/0ppf1r911n33t57wvbmrlxm00000gn/T/ipykernel_60655/2156634732.py:8: LangChainDeprecationWarning: The class `HuggingFaceEmbeddings` was deprecated in LangChain 0.2.2 and will be removed in 1.0. An updated version of the class exists in the :class:`~langchain-huggingface package and should be used instead. To use it run `pip install -U :class:`~langchain-huggingface` and import as `from :class:`~langchain_huggingface import HuggingFaceEmbeddings``.\n",
      "  embedding_model = HuggingFaceEmbeddings(model_name=\"all-MiniLM-L6-v2\")\n"
     ]
    },
    {
     "name": "stdout",
     "output_type": "stream",
     "text": [
      "✅ Skipping already processed file: Operations,Logistics and Hospitality.pdf\n",
      "✅ Skipping already processed file: Agriculture and Allied Sciences.pdf\n",
      "✅ Skipping already processed file: behavioral-interview-guide.pdf\n",
      "✅ Skipping already processed file: nace-career-readiness-competencies-revised-apr-2024.pdf\n",
      "✅ Skipping already processed file: resume-sample-with-pop-outs.pdf\n",
      "✅ Skipping already processed file: UPDATED-Combined-Resume-packet.pdf\n",
      "✅ Skipping already processed file: GFR-2017.pdf\n",
      "✅ Skipping already processed file: Health and Wellness.pdf\n",
      "✅ Skipping already processed file: 2024-HES_resume-and-letter.pdf\n",
      "🔍 Processing new file: Internships.pdf\n",
      "🔍 Processing new file: 10-Reasons-to-Do-an-Internship.pdf\n",
      "✅ Skipping already processed file: telephone_directory_moe.pdf\n",
      "✅ Skipping already processed file: Public Policy,Law and Safety.pdf\n",
      "✅ Skipping already processed file: Research and Development.pdf\n",
      "✅ Skipping already processed file: TheImportanceofInternships_LinkedIn.pdf\n",
      "✅ Skipping already processed file: Management.pdf\n",
      "✅ Skipping already processed file: Copy-of-Internship-Program-Development-Toolkit_FINAL.pdf\n",
      "✅ Skipping already processed file: Harvard-College-Engineering-Example.pdf\n",
      "✅ Skipping already processed file: internship_guidelines_final.pdf\n",
      "✅ Skipping already processed file: Information Technology.pdf\n",
      "✅ Skipping already processed file: selecting-a-medical-school-tips.pdf\n",
      "✅ Skipping already processed file: stuckert-resume-guide-final-2024-2025-1.pdf?utm_source=chatgpt.com\n",
      "✅ Skipping already processed file: 2022_Your%20Career%20Development%20Guide%20for%20Working%20Professionals_0.pdf\n",
      "✅ Skipping already processed file: pgi_hi_1819.pdf\n",
      "✅ Skipping already processed file: Career-Handbook-2019.pdf\n",
      "✅ Skipping already processed file: resume_guide_2020.pdf\n",
      "✅ Skipping already processed file: evidence-based-interviewing-2022.pdf\n",
      "🔍 Processing new file: 8MZFL2NWYX6ZJI52YJU35MZQ15ZDRM2MTC4DZJM41MTJK3YTDI8ZGMX9YJFLFYTQ20NZY3CZDAY5YZHI2MTAZ1MGY2DLJC01NZQZ9OTE3FLMYZ.pdf\n",
      "✅ Skipping already processed file: 2024-GSAS_phd_resume_cover_letters-1.pdf\n",
      "✅ Skipping already processed file: Business and Finance.pdf\n",
      "✅ Skipping already processed file: resume%20writing%20guide%20web.pdf\n",
      "✅ Skipping already processed file: Education and Training.pdf\n",
      "✅ Skipping already processed file: Government Services.pdf\n",
      "✅ Skipping already processed file: Engineering.pdf\n",
      "✅ Skipping already processed file: Technical and Skill Trades.pdf\n",
      "✅ Skipping already processed file: Action%20Plan%20-%20Revised%20081315_2.pdf\n",
      "✅ Skipping already processed file: resume-handout-508-compliant.pdf\n",
      "🔍 Processing new file: EJ1263677.pdf\n",
      "✅ Skipping already processed file: Grad-School-Guide-2022.pdf\n",
      "✅ Skipping already processed file: Harvard-College-CS-Resume-Example.pdf\n",
      "✅ Skipping already processed file: job_search_success_workbook_access.pdf\n",
      "✅ Skipping already processed file: career-development-guide.pdf\n",
      "✅ Skipping already processed file: graduate_school_guide_2020.pdf\n"
     ]
    },
    {
     "name": "stderr",
     "output_type": "stream",
     "text": [
      "/Library/Frameworks/Python.framework/Versions/3.12/lib/python3.12/site-packages/torch/nn/modules/module.py:1762: FutureWarning: `encoder_attention_mask` is deprecated and will be removed in version 4.55.0 for `BertSdpaSelfAttention.forward`.\n",
      "  return forward_call(*args, **kwargs)\n"
     ]
    },
    {
     "name": "stdout",
     "output_type": "stream",
     "text": [
      "✅ Vector DB updated and saved.\n"
     ]
    }
   ],
   "source": [
    "# At the bottom of loader.py or in a separate cell if using Jupyter Notebook\n",
    "process_pdfs_incremental(directory=\"data/\")"
   ]
  }
 ],
 "metadata": {
  "kernelspec": {
   "display_name": "Python 3.12.4 (64-bit)",
   "language": "python",
   "name": "python312"
  },
  "language_info": {
   "codemirror_mode": {
    "name": "ipython",
    "version": 3
   },
   "file_extension": ".py",
   "mimetype": "text/x-python",
   "name": "python",
   "nbconvert_exporter": "python",
   "pygments_lexer": "ipython3",
   "version": "3.12.4"
  }
 },
 "nbformat": 4,
 "nbformat_minor": 5
}
